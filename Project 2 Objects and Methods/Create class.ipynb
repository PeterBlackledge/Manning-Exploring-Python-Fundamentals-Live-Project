{
 "cells": [
  {
   "cell_type": "code",
   "execution_count": 9,
   "id": "c742a296-dfce-430f-b37c-2f725cf2dad8",
   "metadata": {},
   "outputs": [
    {
     "data": {
      "text/plain": [
       "2.99"
      ]
     },
     "execution_count": 9,
     "metadata": {},
     "output_type": "execute_result"
    }
   ],
   "source": [
    "class Price:\n",
    "    def __init__(self, part_number, price):\n",
    "        self.price = price\n",
    "        self.part_number = part_number\n",
    "    def get_price(self):\n",
    "        return self.price\n",
    "\n",
    "part_price = Price(432, 2.99)\n",
    "\n",
    "part_price.get_price()"
   ]
  },
  {
   "cell_type": "code",
   "execution_count": 10,
   "id": "3558a833-d1ff-4ec8-a8eb-f50c05e70895",
   "metadata": {},
   "outputs": [
    {
     "data": {
      "text/plain": [
       "9.99"
      ]
     },
     "execution_count": 10,
     "metadata": {},
     "output_type": "execute_result"
    }
   ],
   "source": [
    "part_price2 = Price(342, 9.99)\n",
    "part_price2.get_price()"
   ]
  },
  {
   "cell_type": "code",
   "execution_count": 11,
   "id": "4693fc4c-9046-4d52-9912-eec35f034d6b",
   "metadata": {},
   "outputs": [],
   "source": [
    "def function__init__(self, part_number, price):\n",
    "    self.price = price\n",
    "    self.part_number = part_number\n",
    "def function_get_price(self):\n",
    "    return self.price"
   ]
  },
  {
   "cell_type": "code",
   "execution_count": 12,
   "id": "5eecb2f8-d8f1-4b96-92dd-128cae2ca0bc",
   "metadata": {},
   "outputs": [],
   "source": [
    "namespace = {\"__init__\": function__init__, \"get_price\": function_get_price}"
   ]
  },
  {
   "cell_type": "code",
   "execution_count": 13,
   "id": "ad7421ae-5ee1-40a2-b5b8-fe5be64ccff7",
   "metadata": {},
   "outputs": [],
   "source": [
    "Price2 = type('Price2', (), namespace)"
   ]
  },
  {
   "cell_type": "code",
   "execution_count": 14,
   "id": "c947b753-7700-4559-9212-375a2e3ab825",
   "metadata": {},
   "outputs": [],
   "source": [
    "part_price = Price2(444, 4.99)"
   ]
  },
  {
   "cell_type": "code",
   "execution_count": 16,
   "id": "c968dcfc-a3cf-437f-bd27-a018a38064c7",
   "metadata": {},
   "outputs": [
    {
     "data": {
      "text/plain": [
       "4.99"
      ]
     },
     "execution_count": 16,
     "metadata": {},
     "output_type": "execute_result"
    }
   ],
   "source": [
    "part_price.get_price()"
   ]
  },
  {
   "cell_type": "code",
   "execution_count": null,
   "id": "7d4a1c70-ca95-4dc5-8cdc-8af6e72e7eb8",
   "metadata": {},
   "outputs": [],
   "source": []
  }
 ],
 "metadata": {
  "kernelspec": {
   "display_name": "Python 3 (ipykernel)",
   "language": "python",
   "name": "python3"
  },
  "language_info": {
   "codemirror_mode": {
    "name": "ipython",
    "version": 3
   },
   "file_extension": ".py",
   "mimetype": "text/x-python",
   "name": "python",
   "nbconvert_exporter": "python",
   "pygments_lexer": "ipython3",
   "version": "3.11.7"
  }
 },
 "nbformat": 4,
 "nbformat_minor": 5
}
