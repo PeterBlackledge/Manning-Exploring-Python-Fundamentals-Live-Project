{
 "cells": [
  {
   "cell_type": "code",
   "execution_count": 9,
   "id": "c742a296-dfce-430f-b37c-2f725cf2dad8",
   "metadata": {},
   "outputs": [
    {
     "data": {
      "text/plain": [
       "2.99"
      ]
     },
     "execution_count": 9,
     "metadata": {},
     "output_type": "execute_result"
    }
   ],
   "source": [
    "class Price:\n",
    "    def __init__(self, part_number, price):\n",
    "        self.price = price\n",
    "        self.part_number = part_number\n",
    "    def get_price(self):\n",
    "        return self.price\n",
    "\n",
    "part_price = Price(432, 2.99)\n",
    "\n",
    "part_price.get_price()"
   ]
  },
  {
   "cell_type": "code",
   "execution_count": null,
   "id": "3558a833-d1ff-4ec8-a8eb-f50c05e70895",
   "metadata": {},
   "outputs": [],
   "source": []
  }
 ],
 "metadata": {
  "kernelspec": {
   "display_name": "Python 3 (ipykernel)",
   "language": "python",
   "name": "python3"
  },
  "language_info": {
   "codemirror_mode": {
    "name": "ipython",
    "version": 3
   },
   "file_extension": ".py",
   "mimetype": "text/x-python",
   "name": "python",
   "nbconvert_exporter": "python",
   "pygments_lexer": "ipython3",
   "version": "3.11.7"
  }
 },
 "nbformat": 4,
 "nbformat_minor": 5
}
