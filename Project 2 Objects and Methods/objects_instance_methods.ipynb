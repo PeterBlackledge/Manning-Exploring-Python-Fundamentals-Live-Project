{
 "cells": [
  {
   "cell_type": "markdown",
   "id": "301462bf-f0b1-4109-9c9e-160b048c09df",
   "metadata": {},
   "source": [
    "# Objects & instance methods"
   ]
  },
  {
   "cell_type": "code",
   "execution_count": 1,
   "id": "f0cd4ebb-95b9-4b4e-a6b6-35028e5687f9",
   "metadata": {},
   "outputs": [],
   "source": [
    "class Price:\n",
    "    def __init__(self, part_number, price):\n",
    "        self.price = price\n",
    "        self.part_number = part_number\n",
    "\n",
    "    def get_price(self):\n",
    "        return self.price"
   ]
  },
  {
   "cell_type": "code",
   "execution_count": null,
   "id": "22c065ec-2b5e-4e29-a55b-3c93a0cf8b2f",
   "metadata": {
    "jupyter": {
     "source_hidden": true
    }
   },
   "outputs": [],
   "source": [
    "item_price = Price(543, 8.99)"
   ]
  },
  {
   "cell_type": "code",
   "execution_count": null,
   "id": "86c7e799-6d95-4d95-a042-d60ea4e0d356",
   "metadata": {
    "jupyter": {
     "source_hidden": true
    },
    "scrolled": true
   },
   "outputs": [],
   "source": [
    "dir(item_price)"
   ]
  },
  {
   "cell_type": "code",
   "execution_count": null,
   "id": "accd7012-1c2d-4482-bf70-fbdbadb2b282",
   "metadata": {},
   "outputs": [],
   "source": [
    "item_price.__dict__"
   ]
  },
  {
   "cell_type": "code",
   "execution_count": null,
   "id": "dd6a3386-8785-4fe8-8983-a7ba5847012f",
   "metadata": {},
   "outputs": [],
   "source": [
    "dir(Price)"
   ]
  },
  {
   "cell_type": "code",
   "execution_count": null,
   "id": "25795711-8704-4265-899d-14e84d1d653e",
   "metadata": {},
   "outputs": [],
   "source": [
    "Price.__dict__"
   ]
  },
  {
   "cell_type": "code",
   "execution_count": null,
   "id": "3e77c8fd-69de-4d7b-b800-752e82f622fb",
   "metadata": {},
   "outputs": [],
   "source": [
    "item_price.__dict__"
   ]
  },
  {
   "cell_type": "code",
   "execution_count": 2,
   "id": "ba0b7835-db0a-41a6-b2dc-dff95eb421e1",
   "metadata": {},
   "outputs": [],
   "source": [
    "def set_discount(a_price, percent_off):\n",
    "    a_price.percent_off = percent_off"
   ]
  },
  {
   "cell_type": "code",
   "execution_count": 3,
   "id": "694ecb9c-2d43-4b29-be52-94d0ee8829a0",
   "metadata": {},
   "outputs": [],
   "source": [
    "def get_discount_price(a_price):\n",
    "    return a_price.price - (a_price.price * a_price.percent_off)\n",
    "    "
   ]
  },
  {
   "cell_type": "code",
   "execution_count": 4,
   "id": "c96a3b68-31d4-4a2b-84e6-a623a38e71db",
   "metadata": {},
   "outputs": [],
   "source": [
    "a_price = Price(123, 8.99)"
   ]
  },
  {
   "cell_type": "code",
   "execution_count": null,
   "id": "a4ee3fe6-24a8-4d95-b443-9affebf370d6",
   "metadata": {},
   "outputs": [],
   "source": [
    "Price.get_discount_price = get_discount_price\n",
    "Price.set_discount = set_discount"
   ]
  },
  {
   "cell_type": "code",
   "execution_count": null,
   "id": "f68ccc15-1e51-4ab1-ba54-2268095199fc",
   "metadata": {},
   "outputs": [],
   "source": []
  }
 ],
 "metadata": {
  "kernelspec": {
   "display_name": "Python 3 (ipykernel)",
   "language": "python",
   "name": "python3"
  },
  "language_info": {
   "codemirror_mode": {
    "name": "ipython",
    "version": 3
   },
   "file_extension": ".py",
   "mimetype": "text/x-python",
   "name": "python",
   "nbconvert_exporter": "python",
   "pygments_lexer": "ipython3",
   "version": "3.11.7"
  }
 },
 "nbformat": 4,
 "nbformat_minor": 5
}
