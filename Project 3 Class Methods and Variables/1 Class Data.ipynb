{
 "cells": [
  {
   "cell_type": "code",
   "execution_count": 11,
   "id": "2cc84205-cfc6-4908-9165-20108371c9c5",
   "metadata": {},
   "outputs": [],
   "source": [
    "class Connection:\n",
    "    port = 55000\n",
    "    conn_limit = 10\n",
    "    conn_count = 0\n",
    "    \n",
    "    def __init__(self,host):\n",
    "        # set host for the instance\n",
    "        self.host = host\n",
    "        # set port based on the class variable port\n",
    "        self.port = Connection.port\n",
    "        Connection.port += 1\n",
    "        # add 1 to the class connection count\n",
    "        if Connection.conn_count < 11:\n",
    "            Connection.conn_count += 1\n",
    "        else:\n",
    "            print(\"Maximum number of connections (10) cannot be exceeded\")\n",
    "            # need to gracefully halt here, not allow further connections, etc.\n",
    "\n",
    "    def close(self):\n",
    "        # reduce class connection count by 1\n",
    "        Connection.conn_count -= 1\n",
    "\n",
    "    def __repr__(self):\n",
    "        return f\"{self.host}, {self.port}\""
   ]
  },
  {
   "cell_type": "code",
   "execution_count": 12,
   "id": "767beb98-a396-40eb-8039-3bd9609ad455",
   "metadata": {},
   "outputs": [],
   "source": [
    "conn1 = Connection(\"host1\")\n",
    "conn2 = Connection(\"host2\")\n",
    "conn3 = Connection(\"host3\")\n",
    "conn4 = Connection(\"host4\")\n",
    "conn5 = Connection(\"host5\")\n",
    "conn6 = Connection(\"host6\")\n",
    "conn7 = Connection(\"host7\")\n",
    "conn8 = Connection(\"host8\")\n",
    "conn9 = Connection(\"host9\")\n",
    "conn10 = Connection(\"host10\")"
   ]
  },
  {
   "cell_type": "code",
   "execution_count": 13,
   "id": "cf3274e5-5316-4a80-b432-63a14ce5a55f",
   "metadata": {},
   "outputs": [
    {
     "name": "stdout",
     "output_type": "stream",
     "text": [
      "Maximum number of connections (10) cannot be exceeded\n"
     ]
    }
   ],
   "source": [
    "conn11 = Connection(\"host11\")\n",
    "conn12 = Connection(\"host12\")"
   ]
  },
  {
   "cell_type": "code",
   "execution_count": 14,
   "id": "9683d90e-2791-4ec4-b155-9e5067154587",
   "metadata": {},
   "outputs": [
    {
     "data": {
      "text/plain": [
       "(55000, 55001, 55002)"
      ]
     },
     "execution_count": 14,
     "metadata": {},
     "output_type": "execute_result"
    }
   ],
   "source": [
    "conn1.port, conn2.port, conn3.port"
   ]
  },
  {
   "cell_type": "code",
   "execution_count": 15,
   "id": "7e80cc75-9940-4c4d-8eb6-0454876e3626",
   "metadata": {},
   "outputs": [
    {
     "data": {
      "text/plain": [
       "11"
      ]
     },
     "execution_count": 15,
     "metadata": {},
     "output_type": "execute_result"
    }
   ],
   "source": [
    "conn3.conn_count"
   ]
  },
  {
   "cell_type": "code",
   "execution_count": 16,
   "id": "b5565639-ec4b-4275-8896-676619f61634",
   "metadata": {},
   "outputs": [
    {
     "data": {
      "text/plain": [
       "11"
      ]
     },
     "execution_count": 16,
     "metadata": {},
     "output_type": "execute_result"
    }
   ],
   "source": [
    "Connection.conn_count"
   ]
  },
  {
   "cell_type": "code",
   "execution_count": 17,
   "id": "08ef2c3f-6776-468c-9516-e72937372bf4",
   "metadata": {},
   "outputs": [],
   "source": [
    "conn1.close()"
   ]
  },
  {
   "cell_type": "code",
   "execution_count": 18,
   "id": "a236bceb-4949-4400-9d79-e91b59516794",
   "metadata": {},
   "outputs": [
    {
     "data": {
      "text/plain": [
       "10"
      ]
     },
     "execution_count": 18,
     "metadata": {},
     "output_type": "execute_result"
    }
   ],
   "source": [
    "Connection.conn_count"
   ]
  },
  {
   "cell_type": "code",
   "execution_count": 19,
   "id": "d235bff0-64c6-4a01-bf83-9995de38ef4d",
   "metadata": {},
   "outputs": [
    {
     "data": {
      "text/plain": [
       "'host12, 55011'"
      ]
     },
     "execution_count": 19,
     "metadata": {},
     "output_type": "execute_result"
    }
   ],
   "source": [
    "repr(conn12)"
   ]
  },
  {
   "cell_type": "code",
   "execution_count": 20,
   "id": "d00fab17-5959-403d-857d-c2e8e3a09514",
   "metadata": {},
   "outputs": [
    {
     "data": {
      "text/plain": [
       "mappingproxy({'__module__': '__main__',\n",
       "              'port': 55012,\n",
       "              'conn_limit': 10,\n",
       "              'conn_count': 10,\n",
       "              '__init__': <function __main__.Connection.__init__(self, host)>,\n",
       "              'close': <function __main__.Connection.close(self)>,\n",
       "              '__repr__': <function __main__.Connection.__repr__(self)>,\n",
       "              '__dict__': <attribute '__dict__' of 'Connection' objects>,\n",
       "              '__weakref__': <attribute '__weakref__' of 'Connection' objects>,\n",
       "              '__doc__': None})"
      ]
     },
     "execution_count": 20,
     "metadata": {},
     "output_type": "execute_result"
    }
   ],
   "source": [
    "Connection.__dict__"
   ]
  },
  {
   "cell_type": "code",
   "execution_count": 21,
   "id": "d44e44d2-05f9-4953-9a4e-1fac6372b08e",
   "metadata": {},
   "outputs": [
    {
     "data": {
      "text/plain": [
       "{'host': 'host12', 'port': 55011}"
      ]
     },
     "execution_count": 21,
     "metadata": {},
     "output_type": "execute_result"
    }
   ],
   "source": [
    "conn12.__dict__"
   ]
  },
  {
   "cell_type": "markdown",
   "id": "96e1f0b9-6a9e-4efd-b956-b5100951ef12",
   "metadata": {},
   "source": [
    "## Experiment: replace `connection_count` attribute with `connections` list"
   ]
  },
  {
   "cell_type": "code",
   "execution_count": 23,
   "id": "a644e7f8-3dfa-461e-9162-2c8a5d89b055",
   "metadata": {},
   "outputs": [],
   "source": [
    "class Connection:\n",
    "    port = 55000\n",
    "    conn_limit = 10\n",
    "    connections = []\n",
    "    \n",
    "    def __init__(self,host):\n",
    "        # set host for the instance\n",
    "        self.host = host\n",
    "        # set port based on the class variable port\n",
    "        self.port = Connection.port\n",
    "        Connection.port += 1\n",
    "        # add instance to connections list\n",
    "        Connection.connections.append(self)\n",
    "\n",
    "    def close(self):\n",
    "        # reduce class connection count by 1\n",
    "        Connection.connections.remove(self)\n",
    "\n",
    "    def __repr__(self):\n",
    "        return f\"{self.host}, {self.port}\""
   ]
  },
  {
   "cell_type": "code",
   "execution_count": 24,
   "id": "09ceef3a-68e0-4592-9af0-05dbefb508a1",
   "metadata": {},
   "outputs": [],
   "source": [
    "conn1 = Connection(\"host1\")"
   ]
  },
  {
   "cell_type": "code",
   "execution_count": 25,
   "id": "c13e72ff-58a6-45c6-aa0e-553810bf2528",
   "metadata": {},
   "outputs": [
    {
     "data": {
      "text/plain": [
       "[host1, 55000]"
      ]
     },
     "execution_count": 25,
     "metadata": {},
     "output_type": "execute_result"
    }
   ],
   "source": [
    "conn1.connections"
   ]
  },
  {
   "cell_type": "code",
   "execution_count": 26,
   "id": "4f5b4348-182f-4334-a4eb-47da816060ac",
   "metadata": {},
   "outputs": [
    {
     "data": {
      "text/plain": [
       "'host1, 55000'"
      ]
     },
     "execution_count": 26,
     "metadata": {},
     "output_type": "execute_result"
    }
   ],
   "source": [
    "repr(conn1)"
   ]
  },
  {
   "cell_type": "code",
   "execution_count": 27,
   "id": "0676bf3b-1e9e-44ef-9349-6d02a7784f8a",
   "metadata": {},
   "outputs": [
    {
     "data": {
      "text/plain": [
       "mappingproxy({'__module__': '__main__',\n",
       "              'port': 55001,\n",
       "              'conn_limit': 10,\n",
       "              'connections': [host1, 55000],\n",
       "              '__init__': <function __main__.Connection.__init__(self, host)>,\n",
       "              'close': <function __main__.Connection.close(self)>,\n",
       "              '__repr__': <function __main__.Connection.__repr__(self)>,\n",
       "              '__dict__': <attribute '__dict__' of 'Connection' objects>,\n",
       "              '__weakref__': <attribute '__weakref__' of 'Connection' objects>,\n",
       "              '__doc__': None})"
      ]
     },
     "execution_count": 27,
     "metadata": {},
     "output_type": "execute_result"
    }
   ],
   "source": [
    "Connection.__dict__"
   ]
  },
  {
   "cell_type": "code",
   "execution_count": 28,
   "id": "95a843f6-650a-4043-a6ee-1daecbda6580",
   "metadata": {},
   "outputs": [
    {
     "data": {
      "text/plain": [
       "{'host': 'host1', 'port': 55000}"
      ]
     },
     "execution_count": 28,
     "metadata": {},
     "output_type": "execute_result"
    }
   ],
   "source": [
    "conn1.__dict__"
   ]
  },
  {
   "cell_type": "code",
   "execution_count": 5,
   "id": "e44f1a30-39fc-44b4-94bc-83d3088f4132",
   "metadata": {},
   "outputs": [],
   "source": [
    "conn2 = Connection(\"host2\")"
   ]
  },
  {
   "cell_type": "code",
   "execution_count": 6,
   "id": "7cb7eb1c-9231-4582-bd29-ea6360edd64a",
   "metadata": {},
   "outputs": [
    {
     "data": {
      "text/plain": [
       "'host2, 55001'"
      ]
     },
     "execution_count": 6,
     "metadata": {},
     "output_type": "execute_result"
    }
   ],
   "source": [
    "repr(conn2)"
   ]
  },
  {
   "cell_type": "code",
   "execution_count": 7,
   "id": "da25cfc6-e778-44ac-a7cd-c0fbe224232f",
   "metadata": {},
   "outputs": [],
   "source": [
    "conn3 = Connection(\"host3\")"
   ]
  },
  {
   "cell_type": "code",
   "execution_count": 8,
   "id": "53f0512a-baf9-40c1-97c9-2548c4a8326a",
   "metadata": {},
   "outputs": [
    {
     "data": {
      "text/plain": [
       "[host1, 55000, host2, 55001, host3, 55002]"
      ]
     },
     "execution_count": 8,
     "metadata": {},
     "output_type": "execute_result"
    }
   ],
   "source": [
    "Connection.connections"
   ]
  },
  {
   "cell_type": "code",
   "execution_count": 9,
   "id": "af86f140-b622-44d7-a0d2-25e1563e9034",
   "metadata": {},
   "outputs": [],
   "source": [
    "conn1.close()"
   ]
  },
  {
   "cell_type": "code",
   "execution_count": 10,
   "id": "d0790136-843f-4c54-8409-c57f3258f355",
   "metadata": {},
   "outputs": [
    {
     "data": {
      "text/plain": [
       "[host2, 55001, host3, 55002]"
      ]
     },
     "execution_count": 10,
     "metadata": {},
     "output_type": "execute_result"
    }
   ],
   "source": [
    "Connection.connections"
   ]
  },
  {
   "cell_type": "code",
   "execution_count": null,
   "id": "09e29e6f-39e2-4de4-b2b6-3c2c42b3cc2c",
   "metadata": {},
   "outputs": [],
   "source": []
  }
 ],
 "metadata": {
  "kernelspec": {
   "display_name": "Python 3 (ipykernel)",
   "language": "python",
   "name": "python3"
  },
  "language_info": {
   "codemirror_mode": {
    "name": "ipython",
    "version": 3
   },
   "file_extension": ".py",
   "mimetype": "text/x-python",
   "name": "python",
   "nbconvert_exporter": "python",
   "pygments_lexer": "ipython3",
   "version": "3.11.7"
  }
 },
 "nbformat": 4,
 "nbformat_minor": 5
}
