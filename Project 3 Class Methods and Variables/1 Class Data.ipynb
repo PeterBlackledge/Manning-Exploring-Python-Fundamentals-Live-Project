{
 "cells": [
  {
   "cell_type": "code",
   "execution_count": 21,
   "id": "2cc84205-cfc6-4908-9165-20108371c9c5",
   "metadata": {},
   "outputs": [],
   "source": [
    "class Connection:\n",
    "    port = 55000\n",
    "    conn_limit = 10\n",
    "    conn_count = 0\n",
    "    \n",
    "    def __init__(self,host):\n",
    "        # set host for the instance\n",
    "        self.host = host\n",
    "        # set port based on the class variable port\n",
    "        self.port = Connection.port\n",
    "        # add 1 to the class connection count\n",
    "        self.conn_count = Connection.conn_count + 1\n",
    "\n",
    "    def close(self):\n",
    "        # reduce class connection count by 1\n",
    "        self.conn_count =  Connection.conn_count - 1"
   ]
  },
  {
   "cell_type": "code",
   "execution_count": 22,
   "id": "767beb98-a396-40eb-8039-3bd9609ad455",
   "metadata": {},
   "outputs": [],
   "source": [
    "conn1 = Connection(\"host1\")"
   ]
  },
  {
   "cell_type": "code",
   "execution_count": 23,
   "id": "9683d90e-2791-4ec4-b155-9e5067154587",
   "metadata": {},
   "outputs": [
    {
     "data": {
      "text/plain": [
       "55000"
      ]
     },
     "execution_count": 23,
     "metadata": {},
     "output_type": "execute_result"
    }
   ],
   "source": [
    "conn1.port"
   ]
  },
  {
   "cell_type": "code",
   "execution_count": 24,
   "id": "7e80cc75-9940-4c4d-8eb6-0454876e3626",
   "metadata": {},
   "outputs": [
    {
     "data": {
      "text/plain": [
       "1"
      ]
     },
     "execution_count": 24,
     "metadata": {},
     "output_type": "execute_result"
    }
   ],
   "source": [
    "conn1.conn_count"
   ]
  },
  {
   "cell_type": "code",
   "execution_count": 25,
   "id": "b5565639-ec4b-4275-8896-676619f61634",
   "metadata": {},
   "outputs": [
    {
     "data": {
      "text/plain": [
       "0"
      ]
     },
     "execution_count": 25,
     "metadata": {},
     "output_type": "execute_result"
    }
   ],
   "source": [
    "Connection.conn_count"
   ]
  },
  {
   "cell_type": "code",
   "execution_count": 27,
   "id": "08ef2c3f-6776-468c-9516-e72937372bf4",
   "metadata": {},
   "outputs": [],
   "source": [
    "conn1.close()"
   ]
  },
  {
   "cell_type": "code",
   "execution_count": 28,
   "id": "a236bceb-4949-4400-9d79-e91b59516794",
   "metadata": {},
   "outputs": [
    {
     "data": {
      "text/plain": [
       "0"
      ]
     },
     "execution_count": 28,
     "metadata": {},
     "output_type": "execute_result"
    }
   ],
   "source": [
    "Connection.conn_count"
   ]
  },
  {
   "cell_type": "code",
   "execution_count": null,
   "id": "d00fab17-5959-403d-857d-c2e8e3a09514",
   "metadata": {},
   "outputs": [],
   "source": []
  }
 ],
 "metadata": {
  "kernelspec": {
   "display_name": "Python 3 (ipykernel)",
   "language": "python",
   "name": "python3"
  },
  "language_info": {
   "codemirror_mode": {
    "name": "ipython",
    "version": 3
   },
   "file_extension": ".py",
   "mimetype": "text/x-python",
   "name": "python",
   "nbconvert_exporter": "python",
   "pygments_lexer": "ipython3",
   "version": "3.11.7"
  }
 },
 "nbformat": 4,
 "nbformat_minor": 5
}
