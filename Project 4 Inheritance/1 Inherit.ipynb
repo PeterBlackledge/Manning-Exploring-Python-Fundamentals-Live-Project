{
 "cells": [
  {
   "cell_type": "code",
   "execution_count": 2,
   "id": "33365a5b-ece2-4a27-8d65-a1de95d9e65e",
   "metadata": {},
   "outputs": [],
   "source": [
    "class Animal:\n",
    "    def __init__(self, name):\n",
    "        self.name = name\n",
    "\n",
    "    def __repr__(self):\n",
    "        return self.name"
   ]
  },
  {
   "cell_type": "code",
   "execution_count": 9,
   "id": "9a08af28-2be4-4524-a688-9c3cba082205",
   "metadata": {},
   "outputs": [],
   "source": [
    "f = Animal(\"frog\")"
   ]
  },
  {
   "cell_type": "code",
   "execution_count": 10,
   "id": "9e589a35-40ca-4e2d-9869-440ea75fe06c",
   "metadata": {},
   "outputs": [
    {
     "data": {
      "text/plain": [
       "'frog'"
      ]
     },
     "execution_count": 10,
     "metadata": {},
     "output_type": "execute_result"
    }
   ],
   "source": [
    "repr(f)"
   ]
  },
  {
   "cell_type": "code",
   "execution_count": 14,
   "id": "52829c01-5180-48c2-aae1-75bfc552ec83",
   "metadata": {},
   "outputs": [],
   "source": [
    "class Mammal(Animal):\n",
    "    def __init__(self):\n",
    "        pass"
   ]
  },
  {
   "cell_type": "code",
   "execution_count": 15,
   "id": "ac74fb5f-b786-4a07-a05c-79b31b1ee894",
   "metadata": {},
   "outputs": [],
   "source": [
    "class Aquatic(Animal):\n",
    "    def __init__(self):\n",
    "        pass"
   ]
  },
  {
   "cell_type": "code",
   "execution_count": 16,
   "id": "4ecc1bc5-b2bb-4dbb-be7c-2d9502517afa",
   "metadata": {},
   "outputs": [],
   "source": [
    "class Wolf(Mammal):\n",
    "    def __init__(self):\n",
    "        pass"
   ]
  },
  {
   "cell_type": "code",
   "execution_count": 17,
   "id": "399ad46c-3fba-450f-8c3c-fb28e1ada4de",
   "metadata": {},
   "outputs": [],
   "source": [
    "class Duck(Aquatic):\n",
    "    def __init__(self):\n",
    "        pass"
   ]
  },
  {
   "cell_type": "code",
   "execution_count": null,
   "id": "1d4b15ad-32e6-4b89-8b04-92bb6000e3e4",
   "metadata": {},
   "outputs": [],
   "source": []
  }
 ],
 "metadata": {
  "kernelspec": {
   "display_name": "Python 3 (ipykernel)",
   "language": "python",
   "name": "python3"
  },
  "language_info": {
   "codemirror_mode": {
    "name": "ipython",
    "version": 3
   },
   "file_extension": ".py",
   "mimetype": "text/x-python",
   "name": "python",
   "nbconvert_exporter": "python",
   "pygments_lexer": "ipython3",
   "version": "3.11.7"
  }
 },
 "nbformat": 4,
 "nbformat_minor": 5
}
