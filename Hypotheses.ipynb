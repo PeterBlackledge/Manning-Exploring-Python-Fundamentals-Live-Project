{
 "cells": [
  {
   "cell_type": "markdown",
   "id": "13d1968d-9318-4d3b-812e-3e4cc8401129",
   "metadata": {},
   "source": [
    "## Unit 1, Milestone 2 Hypotheses"
   ]
  },
  {
   "cell_type": "markdown",
   "id": "81b438bb-423b-4f5c-a399-85a275dc3f7a",
   "metadata": {},
   "source": [
    "## Variables are containers, or variables are labels?"
   ]
  },
  {
   "cell_type": "markdown",
   "id": "7b6912a6-04a1-47fb-883a-5a8159d43f50",
   "metadata": {},
   "source": [
    "### **int**"
   ]
  },
  {
   "cell_type": "code",
   "execution_count": 16,
   "id": "2b49f848-85cd-489e-8ae6-666846f9682d",
   "metadata": {},
   "outputs": [
    {
     "name": "stdout",
     "output_type": "stream",
     "text": [
      "1 2\n"
     ]
    }
   ],
   "source": [
    "int1 = 1\n",
    "int2 = int1\n",
    "int2 = 2\n",
    "print(int1, int2)"
   ]
  },
  {
   "cell_type": "code",
   "execution_count": 20,
   "id": "6c8237b5-e965-41cc-b822-4065d015caa8",
   "metadata": {},
   "outputs": [
    {
     "name": "stdout",
     "output_type": "stream",
     "text": [
      "Value of int1: 1, ID of int1: 140728811701032\n",
      "Value of int2: 2, ID of int2: 140728811701064\n"
     ]
    }
   ],
   "source": [
    "print(f\"Value of int1: {int1}, ID of int1: {id(int1)}\")\n",
    "print(f\"Value of int2: {int2}, ID of int2: {id(int2)}\")"
   ]
  },
  {
   "cell_type": "markdown",
   "id": "aee7451f-54eb-4fe6-86e8-ce07c019c3bd",
   "metadata": {},
   "source": [
    "Variable name points to integer object - it's a label. Reassigning a name links it to a new object."
   ]
  },
  {
   "cell_type": "markdown",
   "id": "4118327f-cdf9-4369-8cfc-a04283715ad1",
   "metadata": {},
   "source": [
    "## **float**"
   ]
  },
  {
   "cell_type": "code",
   "execution_count": 2,
   "id": "dd61601a-8b77-45a0-ac20-f108d8c6e21d",
   "metadata": {},
   "outputs": [
    {
     "name": "stdout",
     "output_type": "stream",
     "text": [
      "1.0 2.0\n"
     ]
    }
   ],
   "source": [
    "ft1 = 1.0\n",
    "ft2 = ft1\n",
    "ft2 = 2.0\n",
    "print(ft1, ft2)"
   ]
  },
  {
   "cell_type": "code",
   "execution_count": 21,
   "id": "79b2e98b-bdf1-447d-8abd-b76cf7ecaa3e",
   "metadata": {},
   "outputs": [
    {
     "name": "stdout",
     "output_type": "stream",
     "text": [
      "Value of ft1: 1.0, ID of ft1: 2640734958704\n",
      "Value of ft2: 2.0, ID of ft2: 2640736278512\n"
     ]
    }
   ],
   "source": [
    "print(f\"Value of ft1: {ft1}, ID of ft1: {id(ft1)}\")\n",
    "print(f\"Value of ft2: {ft2}, ID of ft2: {id(ft2)}\")"
   ]
  },
  {
   "cell_type": "markdown",
   "id": "d620cd45-392c-41f5-a92e-1394bc904373",
   "metadata": {},
   "source": [
    "Float behaviour same as integer behaviour - variable is a label"
   ]
  },
  {
   "cell_type": "markdown",
   "id": "d28fae5a-a330-4be8-ac9b-df3234104f98",
   "metadata": {},
   "source": [
    "## **string**"
   ]
  },
  {
   "cell_type": "code",
   "execution_count": 3,
   "id": "744d0779-7b5c-4458-b7d8-6790f3e82945",
   "metadata": {},
   "outputs": [
    {
     "name": "stdout",
     "output_type": "stream",
     "text": [
      "astring bstring\n"
     ]
    }
   ],
   "source": [
    "st1 = \"astring\"\n",
    "st2 = st1\n",
    "st2 = \"bstring\"\n",
    "print(st1, st2)"
   ]
  },
  {
   "cell_type": "code",
   "execution_count": 22,
   "id": "d87618b8-fe58-4db3-8014-41c97e0379ac",
   "metadata": {},
   "outputs": [
    {
     "name": "stdout",
     "output_type": "stream",
     "text": [
      "Value of st1: astring, ID of st1: 2640736457712\n",
      "Value of st2: bstring, ID of st2: 2640689630704\n"
     ]
    }
   ],
   "source": [
    "print(f\"Value of st1: {st1}, ID of st1: {id(st1)}\")\n",
    "print(f\"Value of st2: {st2}, ID of st2: {id(st2)}\")"
   ]
  },
  {
   "cell_type": "markdown",
   "id": "d4e4795f-f661-446c-99db-b35643c1ac57",
   "metadata": {},
   "source": [
    "Reassigned string-type variable points to a new object. Variable is a label"
   ]
  },
  {
   "cell_type": "code",
   "execution_count": 4,
   "id": "4cfe7f26-2687-4e35-9f1d-3839ed5cdbd5",
   "metadata": {},
   "outputs": [
    {
     "ename": "TypeError",
     "evalue": "'str' object does not support item assignment",
     "output_type": "error",
     "traceback": [
      "\u001b[1;31m---------------------------------------------------------------------------\u001b[0m",
      "\u001b[1;31mTypeError\u001b[0m                                 Traceback (most recent call last)",
      "Cell \u001b[1;32mIn[4], line 1\u001b[0m\n\u001b[1;32m----> 1\u001b[0m st1[\u001b[38;5;241m0\u001b[39m] \u001b[38;5;241m=\u001b[39m \u001b[38;5;124m\"\u001b[39m\u001b[38;5;124mc\u001b[39m\u001b[38;5;124m\"\u001b[39m\n",
      "\u001b[1;31mTypeError\u001b[0m: 'str' object does not support item assignment"
     ]
    }
   ],
   "source": [
    "st1[0] = \"c\""
   ]
  },
  {
   "cell_type": "markdown",
   "id": "5cbc9902-2d5f-4d2d-af16-eadd9a3a86fe",
   "metadata": {},
   "source": [
    "String is immutable, can't be changed in-place"
   ]
  },
  {
   "cell_type": "markdown",
   "id": "9343faf8-6e35-45dd-a8aa-53518b6f7ce8",
   "metadata": {},
   "source": [
    "## **list**"
   ]
  },
  {
   "cell_type": "code",
   "execution_count": 5,
   "id": "46d862f7-7dc4-41af-b8fd-5bf98c1d3574",
   "metadata": {},
   "outputs": [
    {
     "name": "stdout",
     "output_type": "stream",
     "text": [
      "[1, 2, 3] [4, 3, 2]\n"
     ]
    }
   ],
   "source": [
    "lst1 = [1, 2, 3]\n",
    "lst2 = lst1\n",
    "lst2 = [4, 3, 2]\n",
    "print(lst1, lst2)"
   ]
  },
  {
   "cell_type": "markdown",
   "id": "93929870-1b6f-4435-b67c-96edbd7727eb",
   "metadata": {},
   "source": [
    "List-type variable can be reassigned to a new object"
   ]
  },
  {
   "cell_type": "code",
   "execution_count": 6,
   "id": "3dd33686-b04c-4b9d-9e44-a6f3e9047bb8",
   "metadata": {},
   "outputs": [
    {
     "name": "stdout",
     "output_type": "stream",
     "text": [
      "[4, 2, 3] [4, 2, 3]\n"
     ]
    }
   ],
   "source": [
    "lst1 = [1, 2, 3]\n",
    "lst2 = lst1\n",
    "lst2[0] = 4\n",
    "print(lst1, lst2)"
   ]
  },
  {
   "cell_type": "code",
   "execution_count": 23,
   "id": "aa916b0a-13f9-4757-8476-acf673c00934",
   "metadata": {},
   "outputs": [
    {
     "name": "stdout",
     "output_type": "stream",
     "text": [
      "[4, 5, 6] [4, 5, 6]\n"
     ]
    }
   ],
   "source": [
    "lst1 = [1, 2, 3]\n",
    "lst2 = lst1\n",
    "lst2[:] = 4, 5, 6\n",
    "print(lst1, lst2)"
   ]
  },
  {
   "cell_type": "code",
   "execution_count": 24,
   "id": "ea617310-ec78-43e7-85b0-ec217e9c44b2",
   "metadata": {},
   "outputs": [
    {
     "name": "stdout",
     "output_type": "stream",
     "text": [
      "Value of lst1: [4, 5, 6], ID of lst1: 2640750328448\n",
      "Value of lst2: [4, 5, 6], ID of lst2: 2640750328448\n"
     ]
    }
   ],
   "source": [
    "print(f\"Value of lst1: {lst1}, ID of lst1: {id(lst1)}\")\n",
    "print(f\"Value of lst2: {lst2}, ID of lst2: {id(lst2)}\")"
   ]
  },
  {
   "cell_type": "markdown",
   "id": "a03de05b-b0ef-4cbd-9e16-196475fec2e7",
   "metadata": {},
   "source": [
    "Different names can point to the same object.  \n",
    "Elements of a list can be changed in-place."
   ]
  },
  {
   "cell_type": "markdown",
   "id": "9700af91-1454-4977-a1b6-541bb1bf0d4e",
   "metadata": {},
   "source": [
    "## **tuple**"
   ]
  },
  {
   "cell_type": "code",
   "execution_count": 8,
   "id": "bf6968ab-8d31-4477-8f53-c154e77342db",
   "metadata": {},
   "outputs": [
    {
     "name": "stdout",
     "output_type": "stream",
     "text": [
      "(1, 2, 3) (1, 2, 3)\n"
     ]
    }
   ],
   "source": [
    "t1 = (1, 2, 3)\n",
    "t2 = t1\n",
    "print(t1, t2)"
   ]
  },
  {
   "cell_type": "code",
   "execution_count": 9,
   "id": "d0adce28-7c08-4a6a-8b52-379a1c39678b",
   "metadata": {},
   "outputs": [
    {
     "name": "stdout",
     "output_type": "stream",
     "text": [
      "(1, 2, 3) (4, 5, 6)\n"
     ]
    }
   ],
   "source": [
    "t1 = (1, 2, 3)\n",
    "t2 = t1\n",
    "t2 = (4, 5, 6)\n",
    "print(t1, t2)"
   ]
  },
  {
   "cell_type": "code",
   "execution_count": 25,
   "id": "43c8d7a3-c8d6-48e6-a2cf-3832aa6cee09",
   "metadata": {},
   "outputs": [
    {
     "name": "stdout",
     "output_type": "stream",
     "text": [
      "Value of t1: (1, 2, 3), ID of t1: 2640750370176\n",
      "Value of t2: (1, 2, 3), ID of t2: 2640750370176\n"
     ]
    }
   ],
   "source": [
    "print(f\"Value of t1: {t1}, ID of t1: {id(t1)}\")\n",
    "print(f\"Value of t2: {t2}, ID of t2: {id(t2)}\")"
   ]
  },
  {
   "cell_type": "code",
   "execution_count": 10,
   "id": "f931a7ca-7d21-4d4a-8213-de139c232e1d",
   "metadata": {},
   "outputs": [
    {
     "ename": "TypeError",
     "evalue": "'tuple' object does not support item assignment",
     "output_type": "error",
     "traceback": [
      "\u001b[1;31m---------------------------------------------------------------------------\u001b[0m",
      "\u001b[1;31mTypeError\u001b[0m                                 Traceback (most recent call last)",
      "Cell \u001b[1;32mIn[10], line 3\u001b[0m\n\u001b[0;32m      1\u001b[0m t1 \u001b[38;5;241m=\u001b[39m (\u001b[38;5;241m1\u001b[39m, \u001b[38;5;241m2\u001b[39m, \u001b[38;5;241m3\u001b[39m)\n\u001b[0;32m      2\u001b[0m t2 \u001b[38;5;241m=\u001b[39m t1\n\u001b[1;32m----> 3\u001b[0m t2[\u001b[38;5;241m0\u001b[39m] \u001b[38;5;241m=\u001b[39m \u001b[38;5;241m4\u001b[39m\n\u001b[0;32m      4\u001b[0m \u001b[38;5;28mprint\u001b[39m(t1, t2)\n",
      "\u001b[1;31mTypeError\u001b[0m: 'tuple' object does not support item assignment"
     ]
    }
   ],
   "source": [
    "t1 = (1, 2, 3)\n",
    "t2 = t1\n",
    "t2[0] = 4\n",
    "print(t1, t2)"
   ]
  },
  {
   "cell_type": "markdown",
   "id": "a4cdaf6b-f569-4bcf-a485-c672b7b86441",
   "metadata": {},
   "source": [
    "Tuple is immutable, cannot be changed in place"
   ]
  },
  {
   "cell_type": "markdown",
   "id": "959c06fb-9156-499e-bc7a-5d6da6896ffc",
   "metadata": {},
   "source": [
    "## **dict**"
   ]
  },
  {
   "cell_type": "code",
   "execution_count": 32,
   "id": "7bfaa240-96b3-44df-93d3-7fbb6c587ee8",
   "metadata": {},
   "outputs": [
    {
     "name": "stdout",
     "output_type": "stream",
     "text": [
      "{'a': 1, 'b': 2, 'c': 3} {'a': 1, 'b': 2, 'c': 3}\n"
     ]
    }
   ],
   "source": [
    "d1 = {\"a\": 1, \"b\": 2, \"c\": 3}\n",
    "d2 = d1\n",
    "print(d1, d2)"
   ]
  },
  {
   "cell_type": "code",
   "execution_count": 33,
   "id": "dfbfc557-2e0a-4111-9dd9-4139fd79397c",
   "metadata": {},
   "outputs": [
    {
     "name": "stdout",
     "output_type": "stream",
     "text": [
      "Value of d1: {'a': 1, 'b': 2, 'c': 3}, ID of d1: 2640736606016\n",
      "Value of d2: {'a': 1, 'b': 2, 'c': 3}, ID of d2: 2640736606016\n"
     ]
    }
   ],
   "source": [
    "print(f\"Value of d1: {d1}, ID of d1: {id(d1)}\")\n",
    "print(f\"Value of d2: {d2}, ID of d2: {id(d2)}\")"
   ]
  },
  {
   "cell_type": "markdown",
   "id": "119d532d-ad30-49f4-964e-c08a08bfa0f3",
   "metadata": {},
   "source": [
    "Same dictionary can have multiple names - variables are labels"
   ]
  },
  {
   "cell_type": "code",
   "execution_count": 27,
   "id": "93a43ba3-35f4-441c-8398-c4e0e8e39fd4",
   "metadata": {},
   "outputs": [],
   "source": [
    "d2[\"a\"] = 9"
   ]
  },
  {
   "cell_type": "code",
   "execution_count": 28,
   "id": "8bb48621-216c-4a73-befa-9fdfe15ac984",
   "metadata": {},
   "outputs": [
    {
     "name": "stdout",
     "output_type": "stream",
     "text": [
      "{'a': 9, 'b': 2, 'c': 3} {'a': 9, 'b': 2, 'c': 3}\n"
     ]
    }
   ],
   "source": [
    "print(d1, d2)"
   ]
  },
  {
   "cell_type": "markdown",
   "id": "42f2e280-90c9-4199-93d5-a468fb3da9ee",
   "metadata": {},
   "source": [
    "Dictionary elements can be changed in-place."
   ]
  },
  {
   "cell_type": "code",
   "execution_count": 29,
   "id": "4139c2d5-4c49-4659-873c-d21d4b552a9f",
   "metadata": {},
   "outputs": [
    {
     "name": "stdout",
     "output_type": "stream",
     "text": [
      "{'a': 9, 'b': 2, 'c': 3} {'d': 4, 'e': 5, 'f': 6}\n"
     ]
    }
   ],
   "source": [
    "d2 = {\"d\": 4, \"e\": 5, \"f\": 6}\n",
    "print(d1, d2)"
   ]
  },
  {
   "cell_type": "code",
   "execution_count": 30,
   "id": "2a8d23ba-eb44-49d3-b711-46a939f436a2",
   "metadata": {},
   "outputs": [
    {
     "name": "stdout",
     "output_type": "stream",
     "text": [
      "Value of d1: {'a': 9, 'b': 2, 'c': 3}, ID of d1: 2640750380864\n",
      "Value of d2: {'d': 4, 'e': 5, 'f': 6}, ID of d2: 2640736421888\n"
     ]
    }
   ],
   "source": [
    "print(f\"Value of d1: {d1}, ID of d1: {id(d1)}\")\n",
    "print(f\"Value of d2: {d2}, ID of d2: {id(d2)}\")"
   ]
  },
  {
   "cell_type": "markdown",
   "id": "97c30276-7877-4eb4-be4d-e56a65830f25",
   "metadata": {},
   "source": [
    "## **Conclusion**"
   ]
  },
  {
   "cell_type": "markdown",
   "id": "ef70aec0-2349-4a60-8581-52b1cadd8bcf",
   "metadata": {},
   "source": [
    "- Variables are labels for objects.  \n",
    "- An object can have more than one variable name.  \n",
    "- A variable name can be re-assigned to a new different object.   \n",
    "- If a mutable object (list, dictionary) has multiple names,  changing a member element under one name will change it for all names."
   ]
  },
  {
   "cell_type": "code",
   "execution_count": null,
   "id": "de84d41c-d21d-4b43-9bdf-aac1cf1fe011",
   "metadata": {},
   "outputs": [],
   "source": []
  }
 ],
 "metadata": {
  "kernelspec": {
   "display_name": "Python 3 (ipykernel)",
   "language": "python",
   "name": "python3"
  },
  "language_info": {
   "codemirror_mode": {
    "name": "ipython",
    "version": 3
   },
   "file_extension": ".py",
   "mimetype": "text/x-python",
   "name": "python",
   "nbconvert_exporter": "python",
   "pygments_lexer": "ipython3",
   "version": "3.11.7"
  }
 },
 "nbformat": 4,
 "nbformat_minor": 5
}
